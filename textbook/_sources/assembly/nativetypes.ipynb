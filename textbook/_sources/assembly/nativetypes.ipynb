{
 "cells": [
  {
   "cell_type": "code",
   "execution_count": null,
   "id": "cb08d0e4-d875-4d65-b742-76627c6d682f",
   "metadata": {},
   "outputs": [],
   "source": [
    "%run -i ../python/common.py\n",
    "# setup for examples\n",
    "setupExamples(\"inforep\", \"../src/Makefile ../src/empty256.s ../src/oneplusone.s ../src/inforep.gdb ../src/setup.gdb\")"
   ]
  },
  {
   "cell_type": "markdown",
   "id": "1d5a1b09-0d37-4f51-988d-4352a0da88fe",
   "metadata": {},
   "source": [
    "# Information Representation - Native Types\n",
    "\n",
    "In this chapter we will study the support a typical modern processor has for working with information.  It is important to remember \n",
    "that the CPU and memory can only store binary vectors.  The data types are just a collection of operations that interpret \n",
    "byte values in a particular way so that we can use the computer to represent and work with information that we care about.  \n",
    "\n",
    "Unfortunately the data types do not always capture all the properties that the human oriented information we would like to work with perfectly.\n",
    "For example despite the popular belief that computers are good at \"math\" they really are not!  We will learn that the simple idea of representing numbers\n",
    "in a fixed number of bits can lead to the computer doing strange things (situations in which $x + 1$ results in $0$).  However, if we know \n",
    "the limits of what the computer can do we can write software that stays within its capabilities or compensates for the limitations.  For example we can either modify our problem to avoid the cases where $x+1$ does not produce the right sum or we can write code that detects this case and uses more operations to get the right result.  \n",
    "\n",
    "A strong knowledge of the CPU's built in interpretations, data types, will not only allow us to avoid problems, when the data type do not perfectly match what we want to do but it will also let us creatively construct our own interpretations in software that can be very efficient. For example instead of using many integers to represent a set of sixty four boolean attributes we can pack them into a single binary vector and with one instruction determine the following: if the set is empty, if a particular member or combination of members are present,  set the value of one or more attributes, and others.\n",
    "\n",
    "The following are the common native types that we will cover.\n",
    "1. Raw binary bits and bytes\n",
    "2. Unsigned integers\n",
    "3. Signed integers\n",
    "4. Floating point numbers\n",
    "\n",
    "For each we will present how the data is represented in binary vectors of various lengths, the operations typically provide, common patterns for using the operations, and pitfalls to be aware of.\n",
    "Understanding that in the end the data types and how they relate at the binary level lets us us mix the use of the interpretations creatively in our code.  For example lets say that you \n",
    "have two numbers in registers $R_3$ and $R_4$ and you need to exchange them but you don't have any free registers.  Knowing their binary representation allows you to do the following \"trick\" using the binary operation Exclusive OR ($\\widehat{}$), widely supported as a single instruction on CPUs,  as follows sequence of operations: $R_3 \\leftarrow R_3 \\widehat{} R_4$,  $R_4 \\leftarrow R_4 \\widehat{} R_3$ and $R_3 \\leftarrow R_3 \\widehat{} R_4$ (\"Exchanging Registers\" in Henry S. Warren, Jr's book [\"Hacker's Delight\"](https://en.wikipedia.org/wiki/Hacker%27s_Delight)). Such tricks are at the heart of how we have gotten computers to do magical things.\n",
    "\n",
    "In addition the looking at these representations from a generic notation perspective we will also introduce and use GDB syntax and assembly code fragments that let us explore them and solidify our knowledge of how they work.  Further in this chapter we will be making extensive use of the notion introduced in the prior chapter on the [Information Representation - Preliminaries](../assembly/InfoRepl.ipynb).  We will liberally be switching between using binary and hex depending on which is more informative for the particular example being discussed."
   ]
  },
  {
   "cell_type": "markdown",
   "id": "0deed1a8-c6bd-4d6f-aa44-a4990a3f369e",
   "metadata": {},
   "source": [
    "## Raw binary bits and bytes\n",
    "\n",
    "Generic Register exchange  using exclusive or\n",
    "\n",
    "$$R_a \\leftarrow R_a \\widehat{} R_b$$\n",
    "$$R_b \\leftarrow R_b \\widehat{} R_a$$\n",
    "$$R_a \\leftarrow R_a \\widehat{} R_b$$ \n",
    "\n",
    "Useing GDB to explore register exchange example\n",
    "\n",
    "```\n",
    "p /t { $al, $bl }\n",
    "set $al = 0b11110000\n",
    "set $bl = 0b00001111\n",
    "p /t { $al, $bl }\n",
    "set $al = $al ^ $bl\n",
    "p /t { $al, $bl }\n",
    "set $bl = $al ^ $bl\n",
    "p /t { $al, $bl }\n",
    "p /t { $al, $bl }\n",
    "set $al = $al ^ $bl\n",
    "p /t { $al, $bl }\n",
    "```\n",
    "\n",
    "Equivalent INTEL assembly fragment\n",
    "\n",
    "``` gas\n",
    "    mov al, 0b11110000\n",
    "    mov bl, 0b00001111\n",
    "    xor al, bl\n",
    "    xor bl, al\n",
    "    xor al, bl\n",
    "```\n",
    "\n",
    "Arm equivalent\n",
    "\n",
    "``` gas\n",
    "     movz R0, #0b11110000\n",
    "     movz R1, #0b00001111\n",
    "     eor  R0, R0, R1\n",
    "     eor  R1, R1, R0\n",
    "     eor  R0, R0, R1\n",
    "```"
   ]
  },
  {
   "cell_type": "markdown",
   "id": "de37492c-8a1f-43f8-92e6-b2d62b4d0d93",
   "metadata": {},
   "source": [
    "## Unsigned integers"
   ]
  },
  {
   "cell_type": "markdown",
   "id": "ef2a12be-bed7-431d-aaf1-ee17e62e6752",
   "metadata": {},
   "source": [
    "## Signed integers"
   ]
  },
  {
   "cell_type": "markdown",
   "id": "626ab00f-1f1a-4e7d-906f-5243b94f7e3a",
   "metadata": {},
   "source": [
    "## Floating Point numbers"
   ]
  },
  {
   "cell_type": "code",
   "execution_count": null,
   "id": "3d25aedd-5429-4825-ace2-1d8039651b78",
   "metadata": {},
   "outputs": [],
   "source": []
  }
 ],
 "metadata": {
  "kernelspec": {
   "display_name": "Python 3 (ipykernel)",
   "language": "python",
   "name": "python3"
  },
  "language_info": {
   "codemirror_mode": {
    "name": "ipython",
    "version": 3
   },
   "file_extension": ".py",
   "mimetype": "text/x-python",
   "name": "python",
   "nbconvert_exporter": "python",
   "pygments_lexer": "ipython3",
   "version": "3.9.7"
  }
 },
 "nbformat": 4,
 "nbformat_minor": 5
}
